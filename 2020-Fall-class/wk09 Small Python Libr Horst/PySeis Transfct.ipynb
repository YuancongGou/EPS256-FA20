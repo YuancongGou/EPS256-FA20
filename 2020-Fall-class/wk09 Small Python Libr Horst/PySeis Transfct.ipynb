{
 "cells": [
  {
   "cell_type": "code",
   "execution_count": 3,
   "metadata": {},
   "outputs": [],
   "source": [
    "import numpy as np\n",
    "import matplotlib.pyplot as plt\n",
    "import obspy \n",
    "from obspy.signal.invsim import paz_to_freq_resp"
   ]
  },
  {
   "cell_type": "code",
   "execution_count": 18,
   "metadata": {},
   "outputs": [
    {
     "name": "stdout",
     "output_type": "stream",
     "text": [
      "\n",
      "\n",
      "Factory Poles (blue line):\n",
      "(-0.063+0.052j) (-0.063-0.052j) (-190+620j) (-190-620j) (-2000+3000j) (-2000-3000j)\n",
      "Observed Poles (orange line):\n",
      "(-0.042+0.026j) (-0.042-0.026j) (-190+620j) (-190-620j) (-2000+3000j) (-2000-3000j)\n"
     ]
    },
    {
     "data": {
      "image/png": "[encoded data removed]",
      "text/plain": [
       "<Figure size 864x360 with 1 Axes>"
      ]
     },
     "metadata": {},
     "output_type": "display_data"
    },
    {
     "name": "stdout",
     "output_type": "stream",
     "text": [
      "\n",
      "\n",
      "**************\n",
      "The 3dB point of 530.96 for the lower corner is between\n",
      "\n",
      "Period  70.37 [sec] 527.9193115876146\n",
      "Period  69.80 [sec] 531.5733075043463\n",
      "**************\n",
      "\n",
      "\n",
      "Wall time: 1.88 s\n"
     ]
    }
   ],
   "source": [
    "%%time\n",
    "\n",
    "#example for MBB-2\n",
    "sens=750\n",
    "normfact=5.46606E12\n",
    "p11=-0.063\n",
    "p12=+0.0521\n",
    "p1p=complex (p11,p12)\n",
    "p1m=np.conj(p1p)\n",
    "\n",
    "p11tak=-0.042\n",
    "p12tak=+0.026\n",
    "#p12tak=0.042\n",
    "p1ptak=complex (p11tak,p12tak)\n",
    "p1mtak=np.conj(p1ptak)\n",
    "\n",
    "p2p=-190 + 620j\n",
    "p2m=-190 - 620j\n",
    "p3p= -2000 + 3000j\n",
    "p3m= -2000 - 3000j\n",
    "print()\n",
    "print()\n",
    "print (\"Factory Poles (blue line):\")\n",
    "print (p1p,p1m,p2p,p2m,p3p,p3m)\n",
    "poles = [p1p,p1m, p2p,p2m,p3p,p3m]\n",
    "polestak = [p1ptak,p1mtak, p2p,p2m,p3p,p3m]\n",
    "print (\"Observed Poles (orange line):\")\n",
    "print (p1ptak,p1mtak,p2p,p2m,p3p,p3m)\n",
    "zeros=[0,0]\n",
    "scale_fac = normfact*sens\n",
    "scale_factak = normfact*650\n",
    "\n",
    "\n",
    "h, f = paz_to_freq_resp(poles, zeros, scale_fac, 0.002, 67072*64, freq=True)\n",
    "htak, f = paz_to_freq_resp(polestak, zeros, scale_fac, 0.002, 67072*64, freq=True)\n",
    "\n",
    "x=10**(3/20)\n",
    "val3db=sens/x\n",
    "\n",
    "plt.rcParams['figure.figsize'] = [12, 5]\n",
    "plt.figure()\n",
    "plt.semilogx(f, (abs(h)),label=\"factory\")\n",
    "#plt.semilogx(f, (abs(htak)),label=\"observed\")\n",
    "#plt.loglog (f, (abs(h)),label=\"factory\")\n",
    "#plt.loglog (f, (abs(htak)),label=\"observed\")\n",
    "plt.xlabel('Frequency [Hz]')\n",
    "plt.ylabel('Amplitude in V*s/m')\n",
    "plt.grid (which='major')\n",
    "#plt.vlines(1/120,200,1200,colors='red')\n",
    "#plt.hlines(val3db,1/500,1/30,colors='green')\n",
    "plt.legend(loc='upper left')\n",
    "plt.show()             \n",
    "\n",
    "#print (f.size)\n",
    "#print (h.size)\n",
    "#print (f[100],abs(h[100]))\n",
    "#print (f[500],abs(h[500]))\n",
    "#print (f[1000],abs(h[1000]))\n",
    "#print (f[1500],abs(h[1500]))\n",
    "\n",
    "#determine 3dB point\n",
    "\n",
    "val3db=sens/x\n",
    "#print (x,val3db)\n",
    "#h=htak\n",
    "print()\n",
    "print()\n",
    "print (\"**************\")\n",
    "print(\"The 3dB point of\", \"%6.2f\" % (val3db), \"for the lower corner is between\")\n",
    "print()\n",
    "for i in range (f.size):\n",
    "    if abs(h[i])>=val3db:\n",
    "        t=1/f[i-1]\n",
    "        print (\"Period\",\"%6.2f\" % (t),\"[sec]\",abs(h[i-1]))\n",
    "        t=1/f[i]\n",
    "        print (\"Period\",\"%6.2f\" % (t),\"[sec]\",abs(h[i]))\n",
    "        print (\"**************\")\n",
    "        break\n",
    "print()\n",
    "print()"
   ]
  },
  {
   "cell_type": "code",
   "execution_count": null,
   "metadata": {},
   "outputs": [],
   "source": [
    "\n",
    "#example for MBB-2\n",
    "sens=750\n",
    "normfact=5.46606E12\n",
    "p11=-0.037\n",
    "p12=+0.037\n",
    "p1p=complex (p11,p12)\n",
    "p1m=np.conj(p1p)\n",
    "\n",
    "p11tak=-0.042\n",
    "p12tak=+0.026\n",
    "#p12tak=0.042\n",
    "p1ptak=complex (p11tak,p12tak)\n",
    "p1mtak=np.conj(p1ptak)\n",
    "\n",
    "p2p=-190 + 620j\n",
    "p2m=-190 - 620j\n",
    "p3p= -2000 + 3000j\n",
    "p3m= -2000 - 3000j\n",
    "print()\n",
    "print()\n",
    "print (\"Factory Poles (blue line):\")\n",
    "print (p1p,p1m,p2p,p2m,p3p,p3m)\n",
    "poles = [p1p,p1m, p2p,p2m,p3p,p3m]\n",
    "polestak = [p1ptak,p1mtak, p2p,p2m,p3p,p3m]\n",
    "print (\"Observed Poles (orange line):\")\n",
    "print (p1ptak,p1mtak,p2p,p2m,p3p,p3m)\n",
    "zeros=[0,0]\n",
    "scale_fac = normfact*sens\n",
    "scale_factak = normfact*650\n"
   ]
  },
  {
   "cell_type": "code",
   "execution_count": null,
   "metadata": {},
   "outputs": [],
   "source": [
    "#example for CMG-3T 360sec\n",
    "sens=1500\n",
    "normfact=5.71508E08\n",
    "p11=-0.012347\n",
    "p12=+0.012347\n",
    "p1p=complex (p11,p12)\n",
    "p1m=np.conj(p1p)\n",
    "p2p=-502.65\n",
    "p3p=-1005\n",
    "p4p=-1131\n",
    "\n",
    "poles = [p1p,p1m,p2p,p3p,p4p]\n",
    "zeros=[0,0]\n",
    "scale_fac = normfact*sens\n"
   ]
  },
  {
   "cell_type": "code",
   "execution_count": null,
   "metadata": {},
   "outputs": [],
   "source": [
    "#example for STS-2\n",
    "sens=1500\n",
    "normfact=5.70624E12\n",
    "p11=-0.037\n",
    "p12=+0.037\n",
    "p1p=complex (p11,p12)\n",
    "p1m=np.conj(p1p)\n",
    "p2p=-15.99\n",
    "p3p=-417.1\n",
    "p41=-100.9\n",
    "p42=401.9\n",
    "p4p=complex (p41,p42)\n",
    "p4m=np.conj(p4p)\n",
    "p51=-7454\n",
    "p52=-7142\n",
    "p5p=complex (p51,p52)\n",
    "p5m=np.conj(p5p)\n",
    "p6p=-187.24\n",
    "\n",
    "\n",
    "poles = [p1p,p1m,p2p,p3p,p4p,p4m,p5p,p5m,p6p]\n",
    "z41=-318.6\n",
    "z42=401.2\n",
    "z4p=complex (z41,z42)\n",
    "z4m=np.conj(z4p)\n",
    "zeros=[0,0,-15.15,z4p,z4m]\n",
    "scale_fac = normfact*sens\n"
   ]
  },
  {
   "cell_type": "code",
   "execution_count": 57,
   "metadata": {},
   "outputs": [
    {
     "data": {
      "image/png": "[encoded data removed]",
      "text/plain": [
       "<Figure size 432x288 with 1 Axes>"
      ]
     },
     "metadata": {},
     "output_type": "display_data"
    }
   ],
   "source": [
    "plt.subplot(122)\n",
    "phase = 2 * np.pi + np.unwrap(np.angle(h))\n",
    "plt.semilogx(f, phase)\n",
    "plt.xlabel('Frequency [Hz]')\n",
    "plt.ylabel('Phase [radian]')\n",
    "# ticks and tick labels at multiples of pi\n",
    "plt.yticks(\n",
    "    [0, np.pi / 2, np.pi, 3 * np.pi / 2, 2 * np.pi],\n",
    "    ['$0$', r'$\\frac{\\pi}{2}$', r'$\\pi$', r'$\\frac{3\\pi}{2}$', r'$2\\pi$'])\n",
    "plt.ylim(-0.2, 2 * np.pi + 0.2)\n",
    "# title, centered above both subplots\n",
    "plt.suptitle('Frequency Response of MBB-2')\n",
    "# make more room in between subplots for the ylabel of right plot\n",
    "plt.subplots_adjust(wspace=0.3)\n",
    "plt.show()"
   ]
  },
  {
   "cell_type": "code",
   "execution_count": null,
   "metadata": {},
   "outputs": [],
   "source": []
  }
 ],
 "metadata": {
  "kernelspec": {
   "display_name": "Python 3",
   "language": "python",
   "name": "python3"
  },
  "language_info": {
   "codemirror_mode": {
    "name": "ipython",
    "version": 3
   },
   "file_extension": ".py",
   "mimetype": "text/x-python",
   "name": "python",
   "nbconvert_exporter": "python",
   "pygments_lexer": "ipython3",
   "version": "3.6.4"
  }
 },
 "nbformat": 4,
 "nbformat_minor": 2
}
